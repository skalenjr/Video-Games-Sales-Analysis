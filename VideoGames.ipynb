{
 "cells": [
  {
   "cell_type": "markdown",
   "metadata": {},
   "source": [
    "# **Data Analysis On Video Game Sales And Ratings**\n",
    "Dataset from: https://www.kaggle.com/datasets/rush4ratio/video-game-sales-with-ratings"
   ]
  },
  {
   "cell_type": "markdown",
   "metadata": {},
   "source": [
    "## **0. Imports**"
   ]
  },
  {
   "cell_type": "code",
   "execution_count": null,
   "metadata": {},
   "outputs": [],
   "source": [
    "import numpy as np\n",
    "import pandas as pd\n",
    "import matplotlib.pyplot as plt\n",
    "import seaborn as sns"
   ]
  },
  {
   "cell_type": "markdown",
   "metadata": {},
   "source": [
    "## **1. Exploratory Data Analysis**"
   ]
  },
  {
   "cell_type": "markdown",
   "metadata": {},
   "source": [
    "### **1.1 Overview**"
   ]
  },
  {
   "cell_type": "code",
   "execution_count": null,
   "metadata": {},
   "outputs": [],
   "source": [
    "video_games_df = pd.read_csv('Video_Games_Sales_as_at_22_Dec_2016.csv')\n",
    "\n",
    "print('Number of data points = {}'.format(video_games_df.shape[0]))\n",
    "print('Shape: {}'.format(video_games_df.shape))\n",
    "print('Columns: {}'.format(list(video_games_df.columns)))"
   ]
  },
  {
   "cell_type": "code",
   "execution_count": null,
   "metadata": {},
   "outputs": [],
   "source": [
    "print(video_games_df.info())\n",
    "video_games_df.head()"
   ]
  },
  {
   "cell_type": "markdown",
   "metadata": {},
   "source": [
    "### **1.2 Missing Values**"
   ]
  },
  {
   "cell_type": "code",
   "execution_count": null,
   "metadata": {},
   "outputs": [],
   "source": [
    "def display_missing(df):\n",
    "    nummissing = 0\n",
    "    for col in df.columns.tolist():\n",
    "        if df[col].isnull().sum() > 0:\n",
    "            num_missing = df[col].isnull().sum()\n",
    "            percent_missing = (num_missing / df.shape[0]) * 100\n",
    "            print('{} column missing values: {} ({:.2f}%)'.format(col, num_missing, percent_missing))\n",
    "            nummissing += 1\n",
    "    if nummissing == 0:\n",
    "        print('No missing values in the dataset')\n",
    "    print('\\n')\n",
    "\n",
    "display_missing(video_games_df)"
   ]
  },
  {
   "cell_type": "code",
   "execution_count": null,
   "metadata": {},
   "outputs": [],
   "source": [
    "video_games_df.dropna(subset=['Name', 'Genre', 'Publisher', 'Year_of_Release'], inplace=True)\n",
    "display_missing(video_games_df)"
   ]
  },
  {
   "cell_type": "markdown",
   "metadata": {},
   "source": [
    "### **1.3 Unique Values**"
   ]
  },
  {
   "cell_type": "code",
   "execution_count": null,
   "metadata": {},
   "outputs": [],
   "source": [
    "print('Number of data points = {}'.format(video_games_df.shape[0]))\n",
    "print('Number of unique values: ')\n",
    "video_games_df.nunique()"
   ]
  },
  {
   "cell_type": "markdown",
   "metadata": {},
   "source": [
    "### **1.4 Data Types**"
   ]
  },
  {
   "cell_type": "code",
   "execution_count": null,
   "metadata": {},
   "outputs": [],
   "source": [
    "video_games_df.dtypes"
   ]
  },
  {
   "cell_type": "code",
   "execution_count": null,
   "metadata": {},
   "outputs": [],
   "source": [
    "video_games_df['User_Score'].value_counts()"
   ]
  },
  {
   "cell_type": "code",
   "execution_count": null,
   "metadata": {},
   "outputs": [],
   "source": [
    "video_games_df['Year_of_Release'] = video_games_df['Year_of_Release'].astype(np.int64)\n",
    "video_games_df['User_Score'] = video_games_df['User_Score'].str.replace('tbd', 'NaN')\n",
    "video_games_df['User_Score'] = video_games_df['User_Score'].astype(np.float64)\n",
    "\n",
    "print(video_games_df.dtypes)\n",
    "\n",
    "video_games_df.head()"
   ]
  },
  {
   "cell_type": "code",
   "execution_count": null,
   "metadata": {},
   "outputs": [],
   "source": [
    "video_games_df.describe()"
   ]
  },
  {
   "cell_type": "markdown",
   "metadata": {},
   "source": [
    "### **1.5 Ratings**"
   ]
  },
  {
   "cell_type": "code",
   "execution_count": null,
   "metadata": {},
   "outputs": [],
   "source": [
    "video_games_df['Rating'].value_counts()"
   ]
  },
  {
   "cell_type": "code",
   "execution_count": null,
   "metadata": {},
   "outputs": [],
   "source": [
    "video_games_df.loc[video_games_df.Rating == 'RP']"
   ]
  },
  {
   "cell_type": "code",
   "execution_count": null,
   "metadata": {},
   "outputs": [],
   "source": [
    "video_games_df.loc[14272, 'Rating'] = 'E10+'"
   ]
  },
  {
   "cell_type": "code",
   "execution_count": null,
   "metadata": {},
   "outputs": [],
   "source": [
    "video_games_df['Rating'] = video_games_df['Rating'].str.replace('EC', 'E')\n",
    "video_games_df['Rating'] = video_games_df['Rating'].str.replace('K-A', 'E')\n",
    "video_games_df['Rating'] = video_games_df['Rating'].str.replace('AO', 'M')\n",
    "print('Unique Ratings: {}'.format(video_games_df['Rating'].unique()))\n",
    "\n",
    "rating_order = {'E':'1.0', 'E10+':'2.0', 'T':'3.0', 'M':'4.0'}\n",
    "inv_rating_order = {v: k for k, v in rating_order.items()}\n",
    "video_games_df['Rating'] = video_games_df['Rating'].map(rating_order)\n",
    "\n",
    "video_games_df['Rating'] = video_games_df['Rating'].astype(np.float64)\n",
    "print('Unique Ratings: {}'.format(video_games_df['Rating'].unique()))"
   ]
  },
  {
   "cell_type": "markdown",
   "metadata": {},
   "source": [
    "# "
   ]
  },
  {
   "cell_type": "markdown",
   "metadata": {},
   "source": [
    "### **1.6 Correlations**"
   ]
  },
  {
   "cell_type": "code",
   "execution_count": null,
   "metadata": {},
   "outputs": [],
   "source": [
    "sns.set_theme(style=\"darkgrid\")\n",
    "fig, axs = plt.subplots(nrows=1, figsize=(9, 9))\n",
    "c = video_games_df.corr()\n",
    "sns.heatmap(video_games_df.corr(),  annot=True, square=True, cmap='coolwarm')\n",
    "plt.show()"
   ]
  },
  {
   "cell_type": "markdown",
   "metadata": {},
   "source": [
    "## **2. Further Analysis**"
   ]
  },
  {
   "cell_type": "markdown",
   "metadata": {},
   "source": [
    "### **2.1 Sales**"
   ]
  },
  {
   "cell_type": "code",
   "execution_count": null,
   "metadata": {},
   "outputs": [],
   "source": [
    "sales_features = ['NA_Sales', 'EU_Sales', 'JP_Sales', 'Other_Sales', 'Global_Sales']\n",
    "\n",
    "video_games_df[sales_features].describe()"
   ]
  },
  {
   "cell_type": "markdown",
   "metadata": {},
   "source": [
    "Since the global sales mean is between the 75th percentile and the max value, we can see that the average is skewed upward by large outliers and is much larger than the median value."
   ]
  },
  {
   "cell_type": "code",
   "execution_count": null,
   "metadata": {},
   "outputs": [],
   "source": [
    "plt.figure(figsize=(15,5))\n",
    "plt.title('Distribution of Global Game Sales')\n",
    "sns.histplot(x='Global_Sales', data=video_games_df)\n",
    "plt.ylim(ymin=0,ymax=1400)\n",
    "plt.show()"
   ]
  },
  {
   "cell_type": "code",
   "execution_count": null,
   "metadata": {},
   "outputs": [],
   "source": [
    "video_games_less_than_3 = video_games_df[video_games_df['Global_Sales'] < 3]\n",
    "\n",
    "plt.figure(figsize=(15,5))\n",
    "plt.title('Distribution of Global Game Sales (Less Than $3 million)')\n",
    "sns.histplot(x='Global_Sales', data=video_games_less_than_3)\n",
    "plt.xlim(xmin=0,xmax=3)\n",
    "plt.show()"
   ]
  },
  {
   "cell_type": "markdown",
   "metadata": {},
   "source": [
    "### **2.2 Ratings**"
   ]
  },
  {
   "cell_type": "code",
   "execution_count": null,
   "metadata": {},
   "outputs": [],
   "source": [
    "ratings_features = ['Critic_Score', 'Critic_Count', 'User_Score', 'User_Count']\n",
    "\n",
    "video_games_df[ratings_features].describe()"
   ]
  },
  {
   "cell_type": "code",
   "execution_count": null,
   "metadata": {},
   "outputs": [],
   "source": [
    "plt.figure(figsize=(12,5))\n",
    "plt.title('Distribution of User Scores')\n",
    "sns.histplot(x='User_Score', data=video_games_df)\n",
    "plt.show()"
   ]
  },
  {
   "cell_type": "code",
   "execution_count": null,
   "metadata": {},
   "outputs": [],
   "source": [
    "plt.figure(figsize=(12,5))\n",
    "plt.title('Distribution of Critic Scores')\n",
    "sns.histplot(x='Critic_Score', data=video_games_df)\n",
    "plt.show()"
   ]
  },
  {
   "cell_type": "markdown",
   "metadata": {},
   "source": [
    "### **2.3 Genre**"
   ]
  },
  {
   "cell_type": "code",
   "execution_count": null,
   "metadata": {},
   "outputs": [],
   "source": [
    "plt.figure(figsize=(12,5))\n",
    "plt.title('Number of Games In Each Genre')\n",
    "ax = sns.countplot(y=\"Genre\", data=video_games_df, order=video_games_df['Genre'].value_counts().index)\n",
    "plt.ylabel('Number of Games')\n",
    "plt.show()"
   ]
  },
  {
   "cell_type": "markdown",
   "metadata": {},
   "source": [
    "#### **Genre and Sales**"
   ]
  },
  {
   "cell_type": "code",
   "execution_count": null,
   "metadata": {},
   "outputs": [],
   "source": [
    "plt.figure(figsize=(12,5))\n",
    "plt.title(\"Total Global Sales of Video Games by Genre\")\n",
    "genre_sum_df = video_games_df.groupby('Genre', as_index=False).sum()\n",
    "sns.barplot(data=genre_sum_df, x='Global_Sales', y='Genre', order=genre_sum_df.sort_values('Global_Sales', ascending=False).Genre)\n",
    "plt.show()"
   ]
  },
  {
   "cell_type": "code",
   "execution_count": null,
   "metadata": {},
   "outputs": [],
   "source": [
    "plt.figure(figsize=(12,5))\n",
    "plt.title(\"Distribution of Global Sales of Video Games by Genre\")\n",
    "sns.boxplot(data=video_games_df, x='Global_Sales', y='Genre')\n",
    "plt.show()"
   ]
  },
  {
   "cell_type": "code",
   "execution_count": null,
   "metadata": {},
   "outputs": [],
   "source": [
    "plt.figure(figsize=(12,5))\n",
    "plt.title(\"Average Global Sales of Video Games by Genre\")\n",
    "genre_mean_df = video_games_df.groupby('Genre', as_index=False).mean()\n",
    "sns.barplot(data=genre_mean_df, x='Global_Sales', y='Genre', order=genre_mean_df.sort_values('Global_Sales', ascending=False).Genre)\n",
    "plt.show()"
   ]
  },
  {
   "cell_type": "markdown",
   "metadata": {},
   "source": [
    "### **2.4 ESRB Rating**"
   ]
  },
  {
   "cell_type": "code",
   "execution_count": null,
   "metadata": {},
   "outputs": [],
   "source": [
    "video_games_df['Rating'] = video_games_df['Rating'].astype(str)\n",
    "video_games_df['Rating'] = video_games_df['Rating'].map(inv_rating_order)\n",
    "\n",
    "plt.figure(figsize=(12,4))\n",
    "plt.title('Number of Games With Each ESRB Rating')\n",
    "ax = sns.countplot(y=\"Rating\", data=video_games_df, order=video_games_df['Rating'].value_counts().index)\n",
    "plt.ylabel('Number of Games')\n",
    "plt.show()"
   ]
  },
  {
   "cell_type": "markdown",
   "metadata": {},
   "source": [
    "#### **Ratings and Sales**"
   ]
  },
  {
   "cell_type": "code",
   "execution_count": null,
   "metadata": {},
   "outputs": [],
   "source": [
    "plt.figure(figsize=(12,4))\n",
    "plt.title(\"Total Global Sales of Video Games by Rating\")\n",
    "rating_sum_df = video_games_df.groupby('Rating', as_index=False).sum()\n",
    "sns.barplot(data=rating_sum_df, x='Global_Sales', y='Rating', order=rating_sum_df.sort_values('Global_Sales', ascending=False).Rating)\n",
    "plt.show()"
   ]
  },
  {
   "cell_type": "code",
   "execution_count": null,
   "metadata": {},
   "outputs": [],
   "source": [
    "plt.figure(figsize=(12,4))\n",
    "plt.title(\"Distribution of Global Sales of Video Games by Rating\")\n",
    "sns.boxplot(data=video_games_df, x='Global_Sales', y='Rating')\n",
    "plt.show()"
   ]
  },
  {
   "cell_type": "code",
   "execution_count": null,
   "metadata": {},
   "outputs": [],
   "source": [
    "plt.figure(figsize=(12,4))\n",
    "plt.title(\"Average Global Sales of Video Games by Rating\")\n",
    "rating_mean_df = video_games_df.groupby('Rating', as_index=False).mean()\n",
    "sns.barplot(data=rating_mean_df, x='Global_Sales', y='Rating', order=rating_mean_df.sort_values('Global_Sales', ascending=False).Rating)\n",
    "plt.show()"
   ]
  },
  {
   "cell_type": "markdown",
   "metadata": {},
   "source": [
    "### **2.5 Platform**"
   ]
  },
  {
   "cell_type": "code",
   "execution_count": null,
   "metadata": {},
   "outputs": [],
   "source": [
    "plt.figure(figsize=(12,6))\n",
    "plt.title('Number of Games on Each Platform')\n",
    "ax = sns.countplot(y=\"Platform\", data=video_games_df, order=video_games_df['Platform'].value_counts().index)\n",
    "plt.ylabel('Number of Games')\n",
    "plt.show()"
   ]
  },
  {
   "cell_type": "markdown",
   "metadata": {},
   "source": [
    "#### **Platform and Sales**"
   ]
  },
  {
   "cell_type": "code",
   "execution_count": null,
   "metadata": {},
   "outputs": [],
   "source": [
    "plt.figure(figsize=(12,6))\n",
    "plt.title(\"Total Global Sales of Video Games by Platform\")\n",
    "platform_sum_df = video_games_df.groupby('Platform', as_index=False).sum()\n",
    "sns.barplot(data=platform_sum_df, x='Global_Sales', y='Platform', order=platform_sum_df.sort_values('Global_Sales', ascending=False).Platform)\n",
    "plt.show()"
   ]
  },
  {
   "cell_type": "code",
   "execution_count": null,
   "metadata": {},
   "outputs": [],
   "source": [
    "plt.figure(figsize=(14,6))\n",
    "plt.title(\"Distribution of Global Sales of Video Games by Platform\")\n",
    "sns.boxplot(data=video_games_df, y='Global_Sales', x='Platform')\n",
    "plt.show()"
   ]
  },
  {
   "cell_type": "code",
   "execution_count": null,
   "metadata": {},
   "outputs": [],
   "source": [
    "plt.figure(figsize=(12,6))\n",
    "plt.title(\"Average Global Sales of Video Games by Platform\")\n",
    "platform_mean_df = video_games_df.groupby('Platform', as_index=False).mean()\n",
    "sns.barplot(data=platform_mean_df, x='Global_Sales', y='Platform', order=platform_mean_df.sort_values('Global_Sales', ascending=False).Platform)\n",
    "plt.show()"
   ]
  },
  {
   "cell_type": "markdown",
   "metadata": {},
   "source": [
    "#### **Muliplatform Games**"
   ]
  },
  {
   "cell_type": "code",
   "execution_count": null,
   "metadata": {},
   "outputs": [],
   "source": [
    "multiplatform_titles = video_games_df[video_games_df['Name'].duplicated(keep=False)]\n",
    "multiplatform_titles['Name'].value_counts()"
   ]
  },
  {
   "cell_type": "markdown",
   "metadata": {},
   "source": []
  },
  {
   "cell_type": "code",
   "execution_count": null,
   "metadata": {},
   "outputs": [],
   "source": [
    "video_games_df.loc[video_games_df.Name == 'Need for Speed: Most Wanted']"
   ]
  },
  {
   "cell_type": "code",
   "execution_count": null,
   "metadata": {},
   "outputs": [],
   "source": [
    "plt.figure(figsize=(12,6))\n",
    "plt.title('Number of Multiplatform Games on Each Platform')\n",
    "ax = sns.countplot(y=\"Platform\", data=multiplatform_titles, order=multiplatform_titles['Platform'].value_counts().index)\n",
    "plt.ylabel('Number of Games')\n",
    "plt.show()"
   ]
  },
  {
   "cell_type": "code",
   "execution_count": null,
   "metadata": {},
   "outputs": [],
   "source": [
    "plt.figure(figsize=(12,6))\n",
    "plt.title(\"Total Sales of Multiplatform Video Games by Platform\")\n",
    "platform_sum_df = multiplatform_titles.groupby('Platform', as_index=False).sum()\n",
    "sns.barplot(data=platform_sum_df, x='Global_Sales', y='Platform', order=platform_sum_df.sort_values('Global_Sales', ascending=False).Platform)\n",
    "plt.show()"
   ]
  },
  {
   "cell_type": "code",
   "execution_count": null,
   "metadata": {},
   "outputs": [],
   "source": [
    "plt.figure(figsize=(12,6))\n",
    "plt.title(\"Average Global Sales of Multiplatform Video Games by Platform\")\n",
    "platform_mean_df = multiplatform_titles.groupby('Platform', as_index=False).mean()\n",
    "sns.barplot(data=platform_mean_df, x='Global_Sales', y='Platform', order=platform_mean_df.sort_values('Global_Sales', ascending=False).Platform)\n",
    "plt.show()"
   ]
  },
  {
   "cell_type": "markdown",
   "metadata": {},
   "source": [
    "### **2.6 Year of Release**"
   ]
  },
  {
   "cell_type": "code",
   "execution_count": null,
   "metadata": {},
   "outputs": [],
   "source": [
    "plt.figure(figsize=(18,6))\n",
    "plt.title('Number of Games Released Each Year')\n",
    "ax = sns.countplot(x=\"Year_of_Release\", data=video_games_df)\n",
    "plt.ylabel('Number of Games')\n",
    "plt.show()"
   ]
  },
  {
   "cell_type": "markdown",
   "metadata": {},
   "source": [
    "#### **Year of Release and Sales**"
   ]
  },
  {
   "cell_type": "code",
   "execution_count": null,
   "metadata": {},
   "outputs": [],
   "source": [
    "year_sum_df = video_games_df.groupby('Year_of_Release', as_index=False).sum()\n",
    "plt.figure(figsize=(12,4))\n",
    "plt.title(\"Total Global Sales of Video Games by Genre\")\n",
    "ax = sns.lineplot(x=\"Year_of_Release\", y='Global_Sales', data=year_sum_df)\n",
    "plt.ylabel('Global Sales')\n",
    "plt.show()"
   ]
  },
  {
   "cell_type": "code",
   "execution_count": null,
   "metadata": {},
   "outputs": [],
   "source": [
    "year_mean_df = video_games_df.groupby('Year_of_Release', as_index=False).mean()\n",
    "plt.figure(figsize=(12,4))\n",
    "plt.title(\"Average Global Sales of Video Games by Genre\")\n",
    "ax = sns.lineplot(x=\"Year_of_Release\", y='Global_Sales', data=year_mean_df)\n",
    "plt.ylabel('Global Sales')\n",
    "plt.show()"
   ]
  }
 ],
 "metadata": {
  "kernelspec": {
   "display_name": "Python 3.10.6 64-bit",
   "language": "python",
   "name": "python3"
  },
  "language_info": {
   "codemirror_mode": {
    "name": "ipython",
    "version": 3
   },
   "file_extension": ".py",
   "mimetype": "text/x-python",
   "name": "python",
   "nbconvert_exporter": "python",
   "pygments_lexer": "ipython3",
   "version": "3.10.6"
  },
  "orig_nbformat": 4,
  "vscode": {
   "interpreter": {
    "hash": "7f3f82003cc0ccb780dfb68465a2859b8753c3cce133cefccb0357f6f67295b2"
   }
  }
 },
 "nbformat": 4,
 "nbformat_minor": 2
}
